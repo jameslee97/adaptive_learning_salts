{
 "cells": [
  {
   "cell_type": "markdown",
   "metadata": {},
   "source": [
    "<a id='top'></a>\n",
    "# Using the GAINS Module\n",
    "\n",
    "Much of this content is borrowed from the [GAINS](https://wesleybeckner.github.io/gains/) documentation.\n",
    "\n",
    "GAINS or Genetic Algorithm for Identifying Novel Structures is the package wrapper for our method of producing new ionic liquids.\n",
    "\n",
    "[The engine module](#engine) gives an overview of the basic setup of the GAINS algorithm. If you would like to skip directly to how GAINS was employed in this research study you can do so [here](#framework)."
   ]
  },
  {
   "cell_type": "code",
   "execution_count": 7,
   "metadata": {},
   "outputs": [],
   "source": [
    "import warnings\n",
    "warnings.filterwarnings('ignore')"
   ]
  },
  {
   "cell_type": "markdown",
   "metadata": {},
   "source": [
    "<a id='engine'></a>\n",
    "## The engine module\n",
    "[back to top](#top)\n",
    "\n",
    "GAINS operates using the simplified molecular-input line-entry system ([SMILES](https://en.wikipedia.org/wiki/Simplified_molecular-input_line-entry_system)). We use this to create the molecular structures ([Chromosome](https://wesleybeckner.github.io/gains/gains.html#gains.engine.Chromosome) objects) to be manipulated by the engine. \n",
    "\n",
    "Let's explore the simple case of creating butane from propanol:"
   ]
  },
  {
   "cell_type": "code",
   "execution_count": 1,
   "metadata": {
    "collapsed": true
   },
   "outputs": [],
   "source": [
    "import gains as genetic\n",
    "import numpy as np\n",
    "\n",
    "target = \"CCCC\" #butane smiles\n",
    "parent_candidates = np.array([\"CCCO\"]) #propanol smiles, numpy array"
   ]
  },
  {
   "cell_type": "markdown",
   "metadata": {},
   "source": [
    "In order to begin manipulating the parent_candidate we have to, at a minimum, define three additional functions to interact with the engine: a fitness function, and two display functions; one for displaying accepted mutations one for displaying the final result. \n",
    "\n",
    "The fitness function is the most important user-defined function to interact with the engine, so we'll start there. It allows us to plug any desired objective into the engine; whether it be a quantitative structure property relationship (QSPR), an acitivity/toxicity score, or, as in this case, a simple similarity mapping between a target and a starting structure:"
   ]
  },
  {
   "cell_type": "code",
   "execution_count": 2,
   "metadata": {
    "collapsed": true
   },
   "outputs": [],
   "source": [
    "from rdkit import DataStructs\n",
    "from rdkit.Chem.Fingerprints import FingerprintMols\n",
    "from rdkit.Chem import AllChem as Chem\n",
    "\n",
    "def get_fitness(genes, target):\n",
    "    ms = [Chem.MolFromSmiles(target), Chem.MolFromSmiles(genes)]\n",
    "    fps = [FingerprintMols.FingerprintMol(x) for x in ms]\n",
    "    return DataStructs.FingerprintSimilarity(fps[0], fps[1]), None"
   ]
  },
  {
   "cell_type": "markdown",
   "metadata": {},
   "source": [
    "You can read more of RDKit's documentation on molecular fingerprint similarity [here](http://www.rdkit.org/docs/GettingStartedInPython.html#fingerprinting-and-molecular-similarity). Briefly, the fingerprinting algorithm identifies and hashes topological paths in the molecule before folding them down to a set density of bits. We exploit this in the engine to give us a fitness score for a candidate we are attempting to mutate towards the target structure.\n",
    "\n",
    "The engine doesn't need to know anything about the target since the fitness function is defined on the user end. To avoid passing the target to and from the engine (and taking up cpu time) we define a helper function:"
   ]
  },
  {
   "cell_type": "code",
   "execution_count": 3,
   "metadata": {
    "collapsed": true
   },
   "outputs": [],
   "source": [
    "def fnGetFitness(genes):\n",
    "    return get_fitness(genes, target)"
   ]
  },
  {
   "cell_type": "markdown",
   "metadata": {},
   "source": [
    "This brings us to the last two functions we need to define, the display functions. There is a lot of freedom here to choose what we would like to print to the screen. At a minimum, the engine expects to pass the candidate (Chromosome object) and the current mutation to the display function; and the candidate's genes (SMILES string), target (int, float, or array), count of the mutation attempts (int), and two additional variables we'll get into later (the similarity score and corresponding molecular relative to the molecular solution) to the result display function.\n",
    "\n",
    "In the following I've chosen to print the mutation performed, the fitness score, and the SMILES of the candidate in the display function and the number of atoms and number of mutations in the result display function:"
   ]
  },
  {
   "cell_type": "code",
   "execution_count": 5,
   "metadata": {
    "collapsed": true
   },
   "outputs": [],
   "source": [
    "def display(candidate, mutation):\n",
    "    print(\"{:>20}{:>15}{:>15}\".format(mutation, \"{:3.4f}\".\n",
    "                                  format(candidate.Fitness),\n",
    "                                  candidate.Genes))\n",
    "\n",
    "    \n",
    "def result_display(genes, target, mutation_attempts, sim_score,\n",
    "             molecular_relative):\n",
    "    mol = Chem.MolFromSmiles(genes)\n",
    "    print(\"{:>20}{:>15}\".format(\"number of atoms:\", mol.GetNumAtoms()))\n",
    "    print(\"{:>20}{:>15}\".format(\"mutation attempts:\", mutation_attempts))"
   ]
  },
  {
   "cell_type": "markdown",
   "metadata": {},
   "source": [
    "We have just two more items to pass to the engine: the geneSet object and the optimal fitness we are searching for.\n",
    "\n",
    "The geneSet object contains the atoms and fragments the engine is allowed to use in any mutation attempt. For now these are hard coded into the engine and may be viewed [here](https://wesleybeckner.github.io/gains/gains.html#gains.engine.GeneSet).\n",
    "\n",
    "The optimal fitness in our case is 1 (perfect mapping between candidate and target). But to be thorough we set this by passing the fitness score between the target and itself:"
   ]
  },
  {
   "cell_type": "code",
   "execution_count": 7,
   "metadata": {
    "collapsed": true
   },
   "outputs": [],
   "source": [
    "geneSet = genetic.generate_geneset()\n",
    "optimalFitness, prediction = get_fitness(target, target)"
   ]
  },
  {
   "cell_type": "markdown",
   "metadata": {},
   "source": [
    "We're now ready to put this all together:"
   ]
  },
  {
   "cell_type": "code",
   "execution_count": 8,
   "metadata": {},
   "outputs": [
    {
     "name": "stdout",
     "output_type": "stream",
     "text": [
      "  starting structure         0.3333           CCCO\n",
      " add_custom_fragment         0.3529         CCCCCO\n",
      "         remove_atom         0.4615          CCCCO\n",
      "         remove_atom         1.0000           CCCC\n",
      "    number of atoms:              4\n",
      "  mutation attempts:             34\n"
     ]
    }
   ],
   "source": [
    "best = genetic.get_best(fnGetFitness, optimalFitness, geneSet,\n",
    "                        display, result_display, target,\n",
    "                        parent_candidates)"
   ]
  },
  {
   "cell_type": "markdown",
   "metadata": {},
   "source": [
    "In this simple example it took 34 mutation attempt to get from \"CCCO\" (propanol) to \"CCCC\" (butane); only 3 of which were accepted because they resulted in a higher fitness score than the candidate being mutated.\n",
    "\n",
    "In the next section we'll go over the different mutations available to the engine.\n",
    "\n",
    "## The mutate function\n",
    "\n",
    "the GAINS engine can perform the following mutations to a molecular candidate:\n",
    "\n",
    "* remove_atom\n",
    "* add_atom\n",
    "* replace_atom\n",
    "* add_custom_fragment\n",
    "* remove_custom_fragment\n",
    "* add_rdkit_fragment\n",
    "* remove_rdkit_fragment\n",
    "\n",
    "To understand these sub functions, it is illustrative to look at the [function](https://wesleybeckner.github.io/gains/_modules/gains/engine.html#generate_geneset) that generates the geneSet:\n",
    "\n",
    "```\n",
    "    atoms = [6, 7, 8, 9, 5, 15, 16, 17]\n",
    "    fName = os.path.join(RDConfig.RDDataDir, 'FunctionalGroups.txt')\n",
    "    rdkitFrags = FragmentCatalog.FragCatParams(1, 5, fName)\n",
    "    customFrags = FragmentCatalog.FragCatalog(rdkitFrags)\n",
    "    fcgen = FragmentCatalog.FragCatGenerator()\n",
    "    m = Chem.MolFromSmiles('CCCC')\n",
    "    fcgen.AddFragsFromMol(m, customFrags)\n",
    "    return GeneSet(atoms, rdkitFrags, customFrags)\n",
    "```"
   ]
  },
  {
   "cell_type": "markdown",
   "metadata": {},
   "source": [
    "`atoms` is set according to atomic number: carbon, nitrogen, oxygen, fluorine, boron, phosphorus, sulfur, and chlorine. \n",
    "\n",
    "`rdkitFrags` is best understood by showing the output from rdkit itself:"
   ]
  },
  {
   "cell_type": "code",
   "execution_count": 1,
   "metadata": {},
   "outputs": [
    {
     "data": {
      "text/plain": [
       "39"
      ]
     },
     "execution_count": 1,
     "metadata": {},
     "output_type": "execute_result"
    }
   ],
   "source": [
    "from rdkit import RDConfig\n",
    "from rdkit.Chem import FragmentCatalog\n",
    "import os\n",
    "fName = os.path.join(RDConfig.RDDataDir, 'FunctionalGroups.txt')\n",
    "rdkitFrags = FragmentCatalog.FragCatParams(1, 5, fName)\n",
    "rdkitFrags.GetNumFuncGroups()"
   ]
  },
  {
   "cell_type": "markdown",
   "metadata": {},
   "source": [
    "The engine is utilizing 39 built-in fragments from RDKit. We can view these fragments individually:"
   ]
  },
  {
   "cell_type": "code",
   "execution_count": 2,
   "metadata": {},
   "outputs": [
    {
     "data": {
      "image/png": "[encoded data removed]",
      "text/plain": [
       "<matplotlib.figure.Figure at 0x103cfee10>"
      ]
     },
     "execution_count": 2,
     "metadata": {},
     "output_type": "execute_result"
    }
   ],
   "source": [
    "from rdkit.Chem import Draw\n",
    "Draw.MolToMPL(rdkitFrags.GetFuncGroup(38))"
   ]
  },
  {
   "cell_type": "markdown",
   "metadata": {},
   "source": [
    "and view all of their smiles strings:"
   ]
  },
  {
   "cell_type": "code",
   "execution_count": 4,
   "metadata": {},
   "outputs": [
    {
     "name": "stdout",
     "output_type": "stream",
     "text": [
      "[*]NC(C)=O\n",
      "[*]C(=O)O\n",
      "[*]C(=O)OC\n",
      "[*]C(C)=O\n",
      "[*]C(N)=O\n",
      "[*]C(C)=O\n",
      "[*]N=C=O\n",
      "[*]N=C=S\n",
      "[*]N(=O)O\n",
      "[*]N=O\n",
      "[*]=NO\n",
      "[*]=NC\n",
      "[*]N=C\n",
      "[*]N=NC\n",
      "[*]N=N\n",
      "[*]N#N\n",
      "[*]C#N\n",
      "[*]S(N)(=O)=O\n",
      "[*]NS(C)(=O)=O\n",
      "[*]S(=O)(=O)O\n",
      "[*]S(=O)(=O)OC\n",
      "[*]S(C)(=O)=O\n",
      "[*]S(=O)(=O)Cl\n",
      "[*]S(C)=O\n",
      "[*]SC\n",
      "[*]S\n",
      "[*]=S\n",
      "[*]F\n",
      "[*]C(C)(C)C\n",
      "[*]C(F)(F)F\n",
      "[*]C#C\n",
      "[*]C1CC1\n",
      "[*]OCC\n",
      "[*]OC\n",
      "[*]O\n",
      "[*]=O\n",
      "[*]N\n",
      "[*]=N\n",
      "[*]#N\n"
     ]
    }
   ],
   "source": [
    "from rdkit import Chem\n",
    "for i in range(0,rdkitFrags.GetNumFuncGroups()):\n",
    "    print(Chem.MolToSmiles(rdkitFrags.GetFuncGroup(i)))"
   ]
  },
  {
   "cell_type": "markdown",
   "metadata": {},
   "source": [
    "You can learn more about RDKit fragments [here](http://www.rdkit.org/docs/GettingStartedInPython.html#molecular-fragments). The customFrags will change in future versions of GAINS. For now they are simply substructures of butane:"
   ]
  },
  {
   "cell_type": "code",
   "execution_count": 8,
   "metadata": {},
   "outputs": [
    {
     "name": "stdout",
     "output_type": "stream",
     "text": [
      "CC\n",
      "CCC\n",
      "CCCC\n"
     ]
    }
   ],
   "source": [
    "fName = os.path.join(RDConfig.RDDataDir, 'FunctionalGroups.txt')\n",
    "rdkitFrags = FragmentCatalog.FragCatParams(1, 5, fName)\n",
    "customFrags = FragmentCatalog.FragCatalog(rdkitFrags)\n",
    "fcgen = FragmentCatalog.FragCatGenerator()\n",
    "m = Chem.MolFromSmiles('CCCC')\n",
    "fcgen.AddFragsFromMol(m, customFrags)\n",
    "for i in range(3):\n",
    "    print(customFrags.GetEntryDescription(i))"
   ]
  },
  {
   "cell_type": "markdown",
   "metadata": {},
   "source": [
    "We've covered the important information you need to know to get up and running with GAINS. \n",
    "\n",
    "For convenience here is the full code of minimal functions we've described for interacting with the engine module:"
   ]
  },
  {
   "cell_type": "code",
   "execution_count": 9,
   "metadata": {},
   "outputs": [
    {
     "name": "stdout",
     "output_type": "stream",
     "text": [
      "  starting structure         0.3333           CCCO\n",
      "         remove_atom         0.6667            CCC\n",
      " add_custom_fragment         0.7500          CCCCC\n",
      "         remove_atom         1.0000           CCCC\n",
      "    number of atoms:              4\n",
      "  mutation attempts:             41\n"
     ]
    }
   ],
   "source": [
    "import gains as genetic\n",
    "import numpy as np\n",
    "from rdkit import DataStructs\n",
    "from rdkit.Chem.Fingerprints import FingerprintMols\n",
    "from rdkit.Chem import AllChem as Chem\n",
    "\n",
    "target = \"CCCC\" #butane smiles\n",
    "parent_candidates = np.array([\"CCCO\"]) #propanol smiles, numpy array\n",
    "\n",
    "def get_fitness(genes, target):\n",
    "    ms = [Chem.MolFromSmiles(target), Chem.MolFromSmiles(genes)]\n",
    "    fps = [FingerprintMols.FingerprintMol(x) for x in ms]\n",
    "    return DataStructs.FingerprintSimilarity(fps[0], fps[1]), None\n",
    "\n",
    "def fnGetFitness(genes):\n",
    "    return get_fitness(genes, target)\n",
    "\n",
    "def display(candidate, mutation):\n",
    "    print(\"{:>20}{:>15}{:>15}\".format(mutation, \"{:3.4f}\".\n",
    "                                  format(candidate.Fitness),\n",
    "                                  candidate.Genes))\n",
    "\n",
    "def result_display(genes, target, mutation_attempts, sim_score,\n",
    "             molecular_relative):\n",
    "    mol = Chem.MolFromSmiles(genes)\n",
    "    print(\"{:>20}{:>15}\".format(\"number of atoms:\", mol.GetNumAtoms()))\n",
    "    print(\"{:>20}{:>15}\".format(\"mutation attempts:\", mutation_attempts))\n",
    "    \n",
    "geneSet = genetic.generate_geneset()\n",
    "optimalFitness, prediction = get_fitness(target, target)\n",
    "best = genetic.get_best(fnGetFitness, optimalFitness, geneSet,\n",
    "                        display, result_display, target,\n",
    "                        parent_candidates)"
   ]
  },
  {
   "cell_type": "markdown",
   "metadata": {},
   "source": [
    "<a id='framework'></a>\n",
    "\n",
    "## The GA Framework for ILs\n",
    "[back to top](#top)\n",
    "\n",
    "An IL search in this study would be run like the following"
   ]
  },
  {
   "cell_type": "code",
   "execution_count": 3,
   "metadata": {},
   "outputs": [],
   "source": [
    "from gains.salt_generator import generate_solvent\n",
    "import salty\n",
    "from random import randint"
   ]
  },
  {
   "cell_type": "markdown",
   "metadata": {},
   "source": [
    "After importing the salty and gains libraries we define the models we'd like to load that were introduced in part 1 of this series in [qspr_nn_development](https://github.com/wesleybeckner/adaptive_learning_salts/blob/master/notebooks/qspr_nn_development.ipynb) as well as a target for each property"
   ]
  },
  {
   "cell_type": "code",
   "execution_count": 5,
   "metadata": {},
   "outputs": [],
   "source": [
    "model_ID = [\"cpt\", \"density\"]\n",
    "targets = [1000, 1000]"
   ]
  },
  {
   "cell_type": "markdown",
   "metadata": {},
   "source": [
    "We can, at this point, begin to use GAINS in a simple search.\n",
    "\n",
    "In the cell bellow we initialize a search for an IL with heat capacity of 1000 $J/mol/K$ and density of 1000 $kg/m^3$"
   ]
  },
  {
   "cell_type": "code",
   "execution_count": 8,
   "metadata": {},
   "outputs": [
    {
     "name": "stdout",
     "output_type": "stream",
     "text": [
      "C[N+]1(CCCC1)CCOC\t0.7401449890136719\tstarting structure\t[ 488.11 1007.82]\t[1000, 1000]\n",
      "COCC[N+]1(C)CCCC1C1CC1\t0.7528000183105469\tadd_rdkit_fragment\t[ 517.96 1012.36]\t[1000, 1000]\n",
      "CCCCC[N+]1(CCOC)CCCC1C1CC1\t0.7727149963378906\tadd_custom_fragment\t[549.01 996.42]\t[1000, 1000]\n",
      "CCCCC[N+]1(CCOC)CCCC1C1CC1CCC\t0.7788349914550781\tadd_custom_fragment\t[580.61 977.06]\t[1000, 1000]\n",
      "CCCCC[N+]1(CCOC)CCCC1C1C(CCC)C1C(C)=O\t0.8362499999999999\tadd_rdkit_fragment\t[681.1 991.4]\t[1000, 1000]\n",
      "CCCCC[N+]1(CCOC)CCCC1C1C(CC(C)N=C=O)C1C(C)=O\t0.9170499877929688\tadd_rdkit_fragment\t[ 877.12 1043.02]\t[1000, 1000]\n",
      "CCCCC[N+]1(CCOS)CCCC1C1C(CC(C)N=C=O)C1C(C)=O\t0.9272050170898437\treplace_atom\t[1090.82 1054.77]\t[1000, 1000]\n",
      "C=C(C)C1C(CC(C)N=C=O)C1C1CCC[N+]1(CCCCC)CCOS\t0.9313000183105469\treplace_atom\t[ 910.58 1047.98]\t[1000, 1000]\n",
      "C=C(C)C1C(CC(C)N=C=O)C1C1(CCC)CCC[N+]1(CCCCC)CCOS\t0.9690349731445312\tadd_custom_fragment\t[ 969.13 1031.06]\t[1000, 1000]\n",
      "Salt Smiles: \tC=C(C)C1C(CC(C)N=C=O)C1C1(CCC)CCC[N+]1(CCCCC)CCOS\n",
      "Cation Heavy Atoms: \t29\n",
      "Tanimoto Similarity Score: \t     0.516\n",
      "Molecular Relative: \tN-methylpyrrolidone\n",
      "Anion: \ttetracyanoborate\n",
      "Model Prediction: \t[ 969.13 1031.06]\n",
      "Mutation Attempts: \t24\n"
     ]
    },
    {
     "data": {
      "text/html": [
       "<div>\n",
       "<style scoped>\n",
       "    .dataframe tbody tr th:only-of-type {\n",
       "        vertical-align: middle;\n",
       "    }\n",
       "\n",
       "    .dataframe tbody tr th {\n",
       "        vertical-align: top;\n",
       "    }\n",
       "\n",
       "    .dataframe thead th {\n",
       "        text-align: right;\n",
       "    }\n",
       "</style>\n",
       "<table border=\"1\" class=\"dataframe\">\n",
       "  <thead>\n",
       "    <tr style=\"text-align: right;\">\n",
       "      <th></th>\n",
       "      <th>Salt ID</th>\n",
       "      <th>Salt Smiles</th>\n",
       "      <th>Cation Heavy Atoms</th>\n",
       "      <th>Tanimoto Similarity Score</th>\n",
       "      <th>Molecular Relative</th>\n",
       "      <th>Anion</th>\n",
       "      <th>Model Prediction</th>\n",
       "      <th>MD Calculation</th>\n",
       "      <th>Error</th>\n",
       "    </tr>\n",
       "  </thead>\n",
       "  <tbody>\n",
       "    <tr>\n",
       "      <th>0</th>\n",
       "      <td>C01_A01</td>\n",
       "      <td>C=C(C)C1C(CC(C)N=C=O)C1C1(CCC)CCC[N+]1(CCCCC)C...</td>\n",
       "      <td>29</td>\n",
       "      <td>0.515625</td>\n",
       "      <td>N-methylpyrrolidone</td>\n",
       "      <td>tetracyanoborate</td>\n",
       "      <td>[969.13, 1031.06]</td>\n",
       "      <td>NaN</td>\n",
       "      <td>NaN</td>\n",
       "    </tr>\n",
       "  </tbody>\n",
       "</table>\n",
       "</div>"
      ],
      "text/plain": [
       "   Salt ID                                        Salt Smiles  \\\n",
       "0  C01_A01  C=C(C)C1C(CC(C)N=C=O)C1C1(CCC)CCC[N+]1(CCCCC)C...   \n",
       "\n",
       "  Cation Heavy Atoms  Tanimoto Similarity Score   Molecular Relative  \\\n",
       "0                 29                   0.515625  N-methylpyrrolidone   \n",
       "\n",
       "              Anion   Model Prediction MD Calculation Error  \n",
       "0  tetracyanoborate  [969.13, 1031.06]            NaN   NaN  "
      ]
     },
     "execution_count": 8,
     "metadata": {},
     "output_type": "execute_result"
    }
   ],
   "source": [
    "generate_solvent(targets, model_ID)"
   ]
  },
  {
   "cell_type": "markdown",
   "metadata": {},
   "source": [
    "By default the GA looks for one successful hit, and returns a dataframe with useful information about the structure:"
   ]
  },
  {
   "cell_type": "code",
   "execution_count": 10,
   "metadata": {},
   "outputs": [
    {
     "data": {
      "text/plain": [
       "Index(['Salt ID', 'Salt Smiles', 'Cation Heavy Atoms',\n",
       "       'Tanimoto Similarity Score', 'Molecular Relative', 'Anion',\n",
       "       'Model Prediction', 'MD Calculation', 'Error'],\n",
       "      dtype='object')"
      ]
     },
     "execution_count": 10,
     "metadata": {},
     "output_type": "execute_result"
    }
   ],
   "source": [
    "_8.columns"
   ]
  },
  {
   "cell_type": "markdown",
   "metadata": {},
   "source": [
    "If we would like we can also quiet the engine during its search"
   ]
  },
  {
   "cell_type": "code",
   "execution_count": 11,
   "metadata": {},
   "outputs": [
    {
     "data": {
      "text/plain": [
       "\u001b[0;31mSignature:\u001b[0m \u001b[0mgenerate_solvent\u001b[0m\u001b[0;34m(\u001b[0m\u001b[0mtarget\u001b[0m\u001b[0;34m,\u001b[0m \u001b[0mmodel_ID\u001b[0m\u001b[0;34m,\u001b[0m \u001b[0mheavy_atom_limit\u001b[0m\u001b[0;34m=\u001b[0m\u001b[0;36m50\u001b[0m\u001b[0;34m,\u001b[0m \u001b[0msim_bounds\u001b[0m\u001b[0;34m=\u001b[0m\u001b[0;34m[\u001b[0m\u001b[0;36m0\u001b[0m\u001b[0;34m,\u001b[0m \u001b[0;36m1.0\u001b[0m\u001b[0;34m]\u001b[0m\u001b[0;34m,\u001b[0m \u001b[0mhits\u001b[0m\u001b[0;34m=\u001b[0m\u001b[0;36m1\u001b[0m\u001b[0;34m,\u001b[0m \u001b[0mwrite_file\u001b[0m\u001b[0;34m=\u001b[0m\u001b[0;32mFalse\u001b[0m\u001b[0;34m,\u001b[0m \u001b[0mseed\u001b[0m\u001b[0;34m=\u001b[0m\u001b[0;32mNone\u001b[0m\u001b[0;34m,\u001b[0m \u001b[0mhull\u001b[0m\u001b[0;34m=\u001b[0m\u001b[0;32mNone\u001b[0m\u001b[0;34m,\u001b[0m \u001b[0msimplex\u001b[0m\u001b[0;34m=\u001b[0m\u001b[0;32mNone\u001b[0m\u001b[0;34m,\u001b[0m \u001b[0mpath\u001b[0m\u001b[0;34m=\u001b[0m\u001b[0;32mNone\u001b[0m\u001b[0;34m,\u001b[0m \u001b[0mexp_data\u001b[0m\u001b[0;34m=\u001b[0m\u001b[0;32mNone\u001b[0m\u001b[0;34m,\u001b[0m \u001b[0mverbose\u001b[0m\u001b[0;34m=\u001b[0m\u001b[0;36m0\u001b[0m\u001b[0;34m,\u001b[0m \u001b[0mgen_token\u001b[0m\u001b[0;34m=\u001b[0m\u001b[0;32mFalse\u001b[0m\u001b[0;34m,\u001b[0m \u001b[0mhull_bounds\u001b[0m\u001b[0;34m=\u001b[0m\u001b[0;34m[\u001b[0m\u001b[0;36m0\u001b[0m\u001b[0;34m,\u001b[0m \u001b[0;36m1\u001b[0m\u001b[0;34m]\u001b[0m\u001b[0;34m,\u001b[0m \u001b[0minner_search\u001b[0m\u001b[0;34m=\u001b[0m\u001b[0;32mTrue\u001b[0m\u001b[0;34m,\u001b[0m \u001b[0mparent_cap\u001b[0m\u001b[0;34m=\u001b[0m\u001b[0;36m25\u001b[0m\u001b[0;34m,\u001b[0m \u001b[0mmutation_cap\u001b[0m\u001b[0;34m=\u001b[0m\u001b[0;36m1000\u001b[0m\u001b[0;34m)\u001b[0m\u001b[0;34m\u001b[0m\u001b[0m\n",
       "\u001b[0;31mDocstring:\u001b[0m\n",
       "the primary public function of the salt_generator module\n",
       "\n",
       "Parameters\n",
       "----------\n",
       "target : array, float, or int\n",
       "    the desired property value to be achieved by the engine, if\n",
       "    an array, a multi-output model must be supplied to the engine\n",
       "model_ID : str\n",
       "    the name of the model to be used by the engine. Gains has\n",
       "    several built-in models to choose from\n",
       "heavy_atom_limit : int, optional\n",
       "    the upper value for allowable heavy atoms in the returned\n",
       "    candidate\n",
       "sim_bounds : array, optional\n",
       "    the tanimoto similarity score between the returned candidate\n",
       "    and its closest molecular relative in parent_candidates\n",
       "hits : int, optional\n",
       "    the number of desired solutions\n",
       "write_file : boolean, optional\n",
       "    defaults to False. if True will return the solutions and a\n",
       "    csv log file\n",
       "seed : int, optional\n",
       "    optional randint seed for unittest consistency\n",
       "hull : pandas DataFrame, optional\n",
       "    nxm pandas DataFrame to use convex hull search strategy. hull\n",
       "    columns should be the same properties used in the genetic algorithm\n",
       "    fitness test\n",
       "simplex : array, optional\n",
       "    array to access boundary datapoints in the convex hull. This is used\n",
       "    during target resampling defined by the convex hull/simplex\n",
       "path : str, optional\n",
       "    absolute path to the qspr model used as the fitness function\n",
       "exp_data: salty devmodel obj, optional\n",
       "    used during hull target reassignment search strategy. Salty devmodel\n",
       "    object of the original experimental data\n",
       "verbose : int, optional, default 0\n",
       "    0 : most verbose. Best child, parent/target resampling,\n",
       "        sanitization failure\n",
       "    1 : parent/target resampling, solution metadata, sanitization failure\n",
       "    2 : solution metdata, sanitization failure\n",
       "    3 : target resampling, csv-formatted solution metadata\n",
       "    4 : csv-formatted solution metadata\n",
       "gen_token : int, str, optional\n",
       "    a string or integer to append to file outputs. Useful in the case of\n",
       "    parallel searches.\n",
       "hull_bounds : array, optional\n",
       "    if hull and simplex are not none, hull_bounds describes the\n",
       "    proximity convex_search should be to the simplex\n",
       "inner_search : bool, optional\n",
       "    if hull and simplex are not none, inner_search specifies if\n",
       "    convex_search should return values only within the convex hull\n",
       "\n",
       "Returns\n",
       "-------\n",
       "new : object\n",
       "    default behavior is to return a pandas DataFrame. This is\n",
       "    a log file of the solution(s). if write_file = True the\n",
       "    function will also return pdb files of the cations/anions\n",
       "\u001b[0;31mFile:\u001b[0m      ~/anaconda3/envs/py36/lib/python3.6/site-packages/gains-0.2.2.dev3-py3.6.egg/gains/salt_generator.py\n",
       "\u001b[0;31mType:\u001b[0m      function\n"
      ]
     },
     "metadata": {},
     "output_type": "display_data"
    }
   ],
   "source": [
    "generate_solvent?"
   ]
  },
  {
   "cell_type": "code",
   "execution_count": 18,
   "metadata": {},
   "outputs": [
    {
     "data": {
      "text/html": [
       "<div>\n",
       "<style scoped>\n",
       "    .dataframe tbody tr th:only-of-type {\n",
       "        vertical-align: middle;\n",
       "    }\n",
       "\n",
       "    .dataframe tbody tr th {\n",
       "        vertical-align: top;\n",
       "    }\n",
       "\n",
       "    .dataframe thead th {\n",
       "        text-align: right;\n",
       "    }\n",
       "</style>\n",
       "<table border=\"1\" class=\"dataframe\">\n",
       "  <thead>\n",
       "    <tr style=\"text-align: right;\">\n",
       "      <th></th>\n",
       "      <th>Salt ID</th>\n",
       "      <th>Salt Smiles</th>\n",
       "      <th>Cation Heavy Atoms</th>\n",
       "      <th>Tanimoto Similarity Score</th>\n",
       "      <th>Molecular Relative</th>\n",
       "      <th>Anion</th>\n",
       "      <th>Model Prediction</th>\n",
       "      <th>MD Calculation</th>\n",
       "      <th>Error</th>\n",
       "    </tr>\n",
       "  </thead>\n",
       "  <tbody>\n",
       "    <tr>\n",
       "      <th>0</th>\n",
       "      <td>C01_A01</td>\n",
       "      <td>CCCCCCCC(CC)CCNC([NH3+])C(CC)(CC)CS(N)(=O)=O.N...</td>\n",
       "      <td>25</td>\n",
       "      <td>0.546218</td>\n",
       "      <td>N-methylpyrrolidone</td>\n",
       "      <td>L-lysinate</td>\n",
       "      <td>[1077.73, 999.06]</td>\n",
       "      <td>NaN</td>\n",
       "      <td>NaN</td>\n",
       "    </tr>\n",
       "  </tbody>\n",
       "</table>\n",
       "</div>"
      ],
      "text/plain": [
       "   Salt ID                                        Salt Smiles  \\\n",
       "0  C01_A01  CCCCCCCC(CC)CCNC([NH3+])C(CC)(CC)CS(N)(=O)=O.N...   \n",
       "\n",
       "  Cation Heavy Atoms  Tanimoto Similarity Score   Molecular Relative  \\\n",
       "0                 25                   0.546218  N-methylpyrrolidone   \n",
       "\n",
       "        Anion   Model Prediction MD Calculation Error  \n",
       "0  L-lysinate  [1077.73, 999.06]            NaN   NaN  "
      ]
     },
     "execution_count": 18,
     "metadata": {},
     "output_type": "execute_result"
    }
   ],
   "source": [
    "generate_solvent(targets, model_ID, verbose=3)"
   ]
  },
  {
   "cell_type": "markdown",
   "metadata": {},
   "source": [
    "## Pareto Optimal Frontier Search\n",
    "\n",
    "GAINS also allows more complicated search criteria out of the box, like the Pareto optimal frontier searches performed in the manuscript.\n",
    "\n",
    "To initialize, GAINS needs the experimental data we'd like to create a convex hull from"
   ]
  },
  {
   "cell_type": "code",
   "execution_count": 21,
   "metadata": {},
   "outputs": [
    {
     "name": "stdout",
     "output_type": "stream",
     "text": [
      "Identified 82 unique salts in 1622 datapoints\n"
     ]
    }
   ],
   "source": [
    "T = [298.1, 298.16] \n",
    "P = [101, 102]\n",
    "exp_data = [\"cpt\", \"density\"]\n",
    "data = salty.aggregate_data(exp_data,T=T,P=P)\n",
    "merged = salty.merge_duplicates(data)\n",
    "to_hull = merged.iloc[:,2:4]"
   ]
  },
  {
   "cell_type": "markdown",
   "metadata": {},
   "source": [
    "to_hull is a dataframe with 82 data points for density and heat capacity. GAINS will use this information to automatically compute a CH:"
   ]
  },
  {
   "cell_type": "code",
   "execution_count": 23,
   "metadata": {},
   "outputs": [
    {
     "data": {
      "text/html": [
       "<div>\n",
       "<style scoped>\n",
       "    .dataframe tbody tr th:only-of-type {\n",
       "        vertical-align: middle;\n",
       "    }\n",
       "\n",
       "    .dataframe tbody tr th {\n",
       "        vertical-align: top;\n",
       "    }\n",
       "\n",
       "    .dataframe thead th {\n",
       "        text-align: right;\n",
       "    }\n",
       "</style>\n",
       "<table border=\"1\" class=\"dataframe\">\n",
       "  <thead>\n",
       "    <tr style=\"text-align: right;\">\n",
       "      <th></th>\n",
       "      <th>Specific density, kg/m&lt;SUP&gt;3&lt;/SUP&gt;_mean</th>\n",
       "      <th>Heat capacity at constant pressure, J/K/mol_mean</th>\n",
       "    </tr>\n",
       "  </thead>\n",
       "  <tbody>\n",
       "    <tr>\n",
       "      <th>0</th>\n",
       "      <td>1237.45</td>\n",
       "      <td>820.20</td>\n",
       "    </tr>\n",
       "    <tr>\n",
       "      <th>1</th>\n",
       "      <td>1187.70</td>\n",
       "      <td>905.00</td>\n",
       "    </tr>\n",
       "    <tr>\n",
       "      <th>2</th>\n",
       "      <td>1278.35</td>\n",
       "      <td>754.65</td>\n",
       "    </tr>\n",
       "    <tr>\n",
       "      <th>3</th>\n",
       "      <td>1061.70</td>\n",
       "      <td>522.00</td>\n",
       "    </tr>\n",
       "    <tr>\n",
       "      <th>4</th>\n",
       "      <td>1094.50</td>\n",
       "      <td>450.00</td>\n",
       "    </tr>\n",
       "  </tbody>\n",
       "</table>\n",
       "</div>"
      ],
      "text/plain": [
       "   Specific density, kg/m<SUP>3</SUP>_mean  \\\n",
       "0                                  1237.45   \n",
       "1                                  1187.70   \n",
       "2                                  1278.35   \n",
       "3                                  1061.70   \n",
       "4                                  1094.50   \n",
       "\n",
       "   Heat capacity at constant pressure, J/K/mol_mean  \n",
       "0                                            820.20  \n",
       "1                                            905.00  \n",
       "2                                            754.65  \n",
       "3                                            522.00  \n",
       "4                                            450.00  "
      ]
     },
     "execution_count": 23,
     "metadata": {},
     "output_type": "execute_result"
    }
   ],
   "source": [
    "to_hull.head()"
   ]
  },
  {
   "cell_type": "markdown",
   "metadata": {},
   "source": [
    "Finally, we need to asign an edge and distance for the GAINS to select proper targets. a hull bound of [-.1,.1] will search for targets within/out 10% of the assigned simplex. assigning a simplex id of `any` will cause GAINS to randomly re-assign to any simplex. setting initial targets of [0,0] will cause GAINS to exhaust its initial genetic line (as no IL should have those properties) and start the target reassignment process."
   ]
  },
  {
   "cell_type": "code",
   "execution_count": 29,
   "metadata": {},
   "outputs": [],
   "source": [
    "simplex_id = 'any'\n",
    "hull_bounds=[0,1]\n",
    "targets=[0,0]"
   ]
  },
  {
   "cell_type": "code",
   "execution_count": null,
   "metadata": {},
   "outputs": [],
   "source": [
    "generate_solvent(targets, model_ID, hull=to_hull, simplex=simplex_id,\n",
    "                 verbose=3, hull_bounds=hull_bounds)"
   ]
  }
 ],
 "metadata": {
  "kernelspec": {
   "display_name": "Python 3",
   "language": "python",
   "name": "python3"
  },
  "language_info": {
   "codemirror_mode": {
    "name": "ipython",
    "version": 3
   },
   "file_extension": ".py",
   "mimetype": "text/x-python",
   "name": "python",
   "nbconvert_exporter": "python",
   "pygments_lexer": "ipython3",
   "version": "3.6.6"
  }
 },
 "nbformat": 4,
 "nbformat_minor": 2
}
